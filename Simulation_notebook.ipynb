{
 "cells": [
  {
   "cell_type": "code",
   "execution_count": 1,
   "metadata": {},
   "outputs": [],
   "source": [
    "# Import\n",
    "import numpy as np \n",
    "import matplotlib\n",
    "matplotlib.use('TKAgg')\n",
    "import matplotlib.pyplot as plt\n",
    "import matplotlib.animation as animation\n",
    "import scipy.integrate as integrate"
   ]
  },
  {
   "cell_type": "code",
   "execution_count": 2,
   "metadata": {},
   "outputs": [],
   "source": [
    "#Params\n",
    "alpha=2\n",
    "X0=0.\n",
    "sigma=1.\n",
    "lda=1.\n",
    "X=np.linspace(-np.pi/2,np.pi/2,500) #Space"
   ]
  },
  {
   "cell_type": "markdown",
   "metadata": {},
   "source": [
    "# 1. Pour restreindre la dimension de notre espace de fonction, il est tout d'abord nécessaire de voir s'il est judicieux de se limiter à quelques termes dans le développement en série de Fourier"
   ]
  },
  {
   "cell_type": "code",
   "execution_count": 30,
   "metadata": {},
   "outputs": [],
   "source": [
    "#Definition of the normal distribution\n",
    "def gauss(X0=0,sigma=1):\n",
    "\treturn 1/(sigma * np.sqrt(2 * np.pi)) * np.exp( - (X - X0)**2 / (2 * sigma**2) )\n",
    "\n",
    "# Compute the coefficient of the Fourier decomposition\n",
    "def a(n,sigma=1,x0=0,T=np.pi,borne1=-np.pi/2,borne2=np.pi/2):\n",
    "\tdef fonction(x):\n",
    "\t\treturn  np.cos(n*((2*np.pi)/T)*x)* (1/(sigma * np.sqrt(2 * np.pi))) * (np.exp( - (x - x0)**2 / (2 * sigma**2)))\n",
    "\tinte=integrate.quad(fonction,borne1,borne2)\n",
    "\tif n==0:\n",
    "\t\treturn (1/np.pi)*inte[0]\n",
    "\telse :\n",
    "\t\treturn (2/np.pi)*inte[0] \n",
    "\n",
    "def fourier(n,sigma=1):\n",
    "\tfour=0*X \n",
    "\tfor i in range(n):\n",
    "\t\tfour+=a(i,sigma)*np.cos(2*i*X)\n",
    "\treturn four"
   ]
  },
  {
   "cell_type": "markdown",
   "metadata": {},
   "source": [
    "Nous réalisons les affichages des approximations de la gaussienne pour différentes valeurs de sigma"
   ]
  },
  {
   "cell_type": "code",
   "execution_count": 13,
   "metadata": {},
   "outputs": [],
   "source": [
    "sigma=1\n",
    "plt.plot(X,gauss(sigma=sigma),label=\"gaussienne\")\n",
    "plt.plot(X,fourier(2),label=\"Fourier\")\n",
    "plt.legend()\n",
    "plt.show()"
   ]
  },
  {
   "cell_type": "code",
   "execution_count": 21,
   "metadata": {},
   "outputs": [],
   "source": [
    "sigma=0.1\n",
    "plt.plot(X,gauss(sigma=sigma),label=\"gaussienne\")\n",
    "plt.plot(X,fourier(2,sigma=sigma),label=\"Fourier\")\n",
    "plt.legend()\n",
    "plt.show()"
   ]
  },
  {
   "cell_type": "code",
   "execution_count": 23,
   "metadata": {},
   "outputs": [],
   "source": [
    "sigma=0.1\n",
    "plt.plot(X,gauss(sigma=sigma),label=\"gaussienne\")\n",
    "plt.plot(X,fourier(20,sigma=sigma),label=\"Fourier\")\n",
    "plt.legend()\n",
    "plt.show()"
   ]
  },
  {
   "cell_type": "markdown",
   "metadata": {},
   "source": [
    "Remarques:\n",
    "-> On constate (et c'est vérifié dans la théorie) qu'on peut approximer justement la gaussienne pour un nombre de termes de Fourier environ égal à 2*1/sigma.\n",
    "-> Dans le cas de notre problème avec I, il faudra étendre la taille de notre base en fonction de l'extension spatial de I (lié à la diffusion dans les neurones)\n",
    "-> A ce titre, il est souvent impossible de négliger la partie orthogonale de I "
   ]
  },
  {
   "cell_type": "markdown",
   "metadata": {},
   "source": [
    "# 2. Simulation des neural fields equations par différences finies (sans contrôle et avec theta=0)"
   ]
  },
  {
   "cell_type": "markdown",
   "metadata": {},
   "source": [
    "Paramètres :"
   ]
  },
  {
   "cell_type": "code",
   "execution_count": 31,
   "metadata": {},
   "outputs": [],
   "source": [
    "a0=a(0)\n",
    "a1=a(1)\n",
    "nbx=500\n",
    "nbt=20\n",
    "pasx=np.pi/nbx\n",
    "T=1.\n",
    "past=T/nbt\n",
    "Vin=10.*gauss(0)+5.*gauss(np.pi/4,sigma=0.05)-8*gauss(np.pi/4.5,sigma=0.05)\n",
    "a=0.5\n",
    "tau=past/a\n",
    "\n",
    "def S(x):\n",
    "\treturn 1/(1+np.exp(-x))"
   ]
  },
  {
   "cell_type": "markdown",
   "metadata": {},
   "source": [
    "Simulations :"
   ]
  },
  {
   "cell_type": "code",
   "execution_count": 32,
   "metadata": {},
   "outputs": [],
   "source": [
    "V=Vin*np.ones([nbt,nbx])\n",
    "\n",
    "for t in range(1,nbt):\n",
    "\tfor j in range(0,nbx):\n",
    "\t\txj=-np.pi/2+(j*pasx)\n",
    "\t\tinte=0\n",
    "\t\tfor i in range(nbx):\n",
    "\t\t\txi=-np.pi/2+(i*pasx)\n",
    "\t\t\tinte+=(a0+a1*np.cos(alpha*(xi-xj))*S(lda*V[t-1,i]))\n",
    "\t\tV[t,j]=V[t-1,j]+(past/tau)*(-V[t-1,j]+(1/np.pi)*pasx*inte)"
   ]
  },
  {
   "cell_type": "markdown",
   "metadata": {},
   "source": [
    "Plot l'évolution des profils spatiaux dans le temps"
   ]
  },
  {
   "cell_type": "code",
   "execution_count": 33,
   "metadata": {},
   "outputs": [],
   "source": [
    "for time in range(0,nbt):\n",
    "\tplt.plot(X,V[time,:],label=\"t=\"+str(time))\n",
    "plt.legend()\n",
    "plt.show()"
   ]
  },
  {
   "cell_type": "markdown",
   "metadata": {},
   "source": [
    "Animation"
   ]
  },
  {
   "cell_type": "code",
   "execution_count": 35,
   "metadata": {},
   "outputs": [],
   "source": [
    "fig, ax = plt.subplots()\n",
    "line, = ax.plot(X, V[0,:])\n",
    "\n",
    "def init():  # only required for blitting to give a clean slate.\n",
    "    line.set_ydata([np.nan] * len(X))\n",
    "    return line,\n",
    "\n",
    "def animate(i):\n",
    "    line.set_ydata(V[i,:])  # update the data.\n",
    "    return line,\n",
    "\n",
    "ani = animation.FuncAnimation(\n",
    "    fig, animate, init_func=init, interval=1000, blit=True, save_count=None)\n",
    "\n",
    "plt.show()"
   ]
  },
  {
   "cell_type": "markdown",
   "metadata": {},
   "source": [
    "Remarques : \n",
    "-> On constate une décroissance exponentielle (ordre 1) vers une trajectoire limite qui est constante égale au terme constant de la décomposition de Fourier de J (à démontrer ??)"
   ]
  },
  {
   "cell_type": "code",
   "execution_count": null,
   "metadata": {},
   "outputs": [],
   "source": []
  }
 ],
 "metadata": {
  "kernelspec": {
   "display_name": "Python 2",
   "language": "python",
   "name": "python2"
  },
  "language_info": {
   "codemirror_mode": {
    "name": "ipython",
    "version": 2
   },
   "file_extension": ".py",
   "mimetype": "text/x-python",
   "name": "python",
   "nbconvert_exporter": "python",
   "pygments_lexer": "ipython2",
   "version": "2.7.10"
  }
 },
 "nbformat": 4,
 "nbformat_minor": 2
}
